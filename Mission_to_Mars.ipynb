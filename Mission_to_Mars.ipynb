{
 "cells": [
  {
   "cell_type": "code",
   "execution_count": null,
   "metadata": {},
   "outputs": [],
   "source": [
    "from splinter import Browser\n",
    "from bs4 import BeautifulSoup as soup\n",
    "from webdriver_manager.chrome import ChromeDriverManager"
   ]
  },
  {
   "cell_type": "code",
   "execution_count": null,
   "metadata": {},
   "outputs": [],
   "source": [
    "executable_path = {'executable_path': ChromeDriverManager().install()}\n",
    "\n",
    "browser = Browser('chrome', **executable_path, headless=False)"
   ]
  },
  {
   "cell_type": "code",
   "execution_count": null,
   "metadata": {},
   "outputs": [],
   "source": [
    "url = 'https://redplanetscience.com/'\n",
    "\n",
    "browser.visit(url)\n",
    "\n",
    "# Optional delay for loading the page \n",
    "\n",
    "# NOTE: The optional delay is useful because sometimes dynamic pages take a little while to load, \n",
    "# especially if they are image-heavy.\n",
    "\n",
    "browser.is_element_present_by_css('div.list_test' , wait_time = 1)"
   ]
  },
  {
   "cell_type": "code",
   "execution_count": null,
   "metadata": {},
   "outputs": [],
   "source": [
    "html = browser.html\n",
    "\n",
    "news_soup = soup(html , 'html.parser')\n",
    "\n",
    "slide_elem = news_soup.select_one('div.list_text')\n",
    "\n",
    "# slide_elem as the variable to look for the <div /> tag and its descendent. This is our parent element.\n",
    "\n",
    "# 'div.list_text' pinpoints the <div /> tag with the class of list_text.\n"
   ]
  },
  {
   "cell_type": "code",
   "execution_count": null,
   "metadata": {},
   "outputs": [],
   "source": [
    "slide_elem.find('div' , class_ = 'content_title')\n",
    "\n",
    "# we chained .find onto our previously assigned variable, slide_elem.\n",
    "# When we do this, we're saying, \"This variable holds a ton of information, \n",
    "# so look inside of that information to find this specific data.\""
   ]
  }
 ],
 "metadata": {
  "interpreter": {
   "hash": "852c4be6ddc54edca98b8e358b1750b6386709a1a8238129d8eaff5f40cf11c2"
  },
  "kernelspec": {
   "display_name": "Python 3.10.4 ('PythonData')",
   "language": "python",
   "name": "python3"
  },
  "language_info": {
   "name": "python",
   "version": "3.10.4"
  },
  "orig_nbformat": 4
 },
 "nbformat": 4,
 "nbformat_minor": 2
}
